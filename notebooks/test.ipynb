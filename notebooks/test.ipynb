{
 "cells": [
  {
   "cell_type": "code",
   "execution_count": 9,
   "metadata": {},
   "outputs": [],
   "source": [
    "import torch\n",
    "import torchvision\n",
    "import glob\n",
    "import cv2\n",
    "import PIL\n",
    "from matplotlib import pyplot as plt\n",
    "import numpy as np\n",
    "from IPython.display import display\n",
    "from IPython.display import Image"
   ]
  },
  {
   "cell_type": "code",
   "execution_count": 10,
   "metadata": {},
   "outputs": [],
   "source": [
    "# read all the frames from the folder 'data/frames'\n",
    "paths = glob.glob('../data/extracted/video_1/*.jpg')\n",
    "paths.sort()\n",
    "frames = [PIL.Image.open(path) for path in paths]\n",
    "# convert to RGB\n",
    "frames = [frame.convert('RGB') for frame in frames]\n",
    "\n"
   ]
  },
  {
   "cell_type": "code",
   "execution_count": 11,
   "metadata": {},
   "outputs": [],
   "source": [
    "transforms = torchvision.transforms.Compose([\n",
    "    torchvision.transforms.Resize((224, 224)),\n",
    "    torchvision.transforms.ToTensor(),\n",
    "    torchvision.transforms.Normalize(\n",
    "        mean=[0.485, 0.456, 0.406],\n",
    "        std=[0.229, 0.224, 0.225]\n",
    "    )\n",
    "])"
   ]
  },
  {
   "cell_type": "code",
   "execution_count": 12,
   "metadata": {},
   "outputs": [
    {
     "name": "stdout",
     "output_type": "stream",
     "text": [
      "torch.Size([114, 3, 224, 224])\n"
     ]
    }
   ],
   "source": [
    "batch_images = torch.stack([transforms(frame) for frame in frames])\n",
    "print(batch_images.shape)"
   ]
  },
  {
   "cell_type": "code",
   "execution_count": 13,
   "metadata": {},
   "outputs": [
    {
     "name": "stderr",
     "output_type": "stream",
     "text": [
      "/raid/home/labuserterbouche/.cache/pypoetry/virtualenvs/video-recover-DnP1VpAc-py3.8/lib/python3.8/site-packages/torchvision/models/_utils.py:208: UserWarning: The parameter 'pretrained' is deprecated since 0.13 and will be removed in 0.15, please use 'weights' instead.\n",
      "  warnings.warn(\n",
      "/raid/home/labuserterbouche/.cache/pypoetry/virtualenvs/video-recover-DnP1VpAc-py3.8/lib/python3.8/site-packages/torchvision/models/_utils.py:223: UserWarning: Arguments other than a weight enum or `None` for 'weights' are deprecated since 0.13 and will be removed in 0.15. The current behavior is equivalent to passing `weights=ResNet50_Weights.IMAGENET1K_V1`. You can also use `weights=ResNet50_Weights.DEFAULT` to get the most up-to-date weights.\n",
      "  warnings.warn(msg)\n"
     ]
    },
    {
     "name": "stdout",
     "output_type": "stream",
     "text": [
      "torch.Size([114, 2048])\n"
     ]
    }
   ],
   "source": [
    "# extract the features from the images using ResNet50\n",
    "resnet50 = torchvision.models.resnet50(pretrained=True)\n",
    "resnet50.eval();\n",
    "\n",
    "# create a model that returns the features of the last layer, and add global average pooling\n",
    "model  = torch.nn.Sequential(*list(resnet50.children())[:-1])\n",
    "model.eval()\n",
    "with torch.no_grad():\n",
    "    features = model(batch_images).squeeze()\n",
    "print(features.shape)"
   ]
  },
  {
   "cell_type": "code",
   "execution_count": 14,
   "metadata": {},
   "outputs": [
    {
     "name": "stdout",
     "output_type": "stream",
     "text": [
      "[ 1  1  1  1  1  1  1  1  1  1 -1  1  1  1  1  1  1 -1  1  1  1  1  1  1\n",
      "  1  1  1  1  1  1  1  1  1  1  1  1 -1  1  1  1  1  1 -1  1  1  1 -1  1\n",
      "  1  1  1  1  1  1  1  1  1  1  1  1  1  1  1  1  1  1  1  1  1 -1  1  1\n",
      "  1 -1  1  1 -1  1 -1  1  1  1  1 -1  1  1  1  1 -1  1 -1  1  1  1  1  1\n",
      "  1  1  1  1 -1 -1  1  1  1  1  1  1  1  1  1  1  1  1]\n"
     ]
    }
   ],
   "source": [
    "# use anomaly detection to find the noisy frames\n",
    "from sklearn.ensemble import IsolationForest\n",
    "clf = IsolationForest(random_state=0, n_estimators=120).fit(features)\n",
    "print(clf.predict(features))"
   ]
  },
  {
   "cell_type": "code",
   "execution_count": 15,
   "metadata": {},
   "outputs": [
    {
     "name": "stdout",
     "output_type": "stream",
     "text": [
      "14\n"
     ]
    }
   ],
   "source": [
    "# get the number of noisy frames\n",
    "print(np.count_nonzero(clf.predict(features) == -1))"
   ]
  },
  {
   "cell_type": "code",
   "execution_count": 16,
   "metadata": {},
   "outputs": [],
   "source": [
    "# get the indices of the noisy frames\n",
    "noisy_frames_indices = np.where(clf.predict(features) == -1)[0]"
   ]
  },
  {
   "cell_type": "code",
   "execution_count": 17,
   "metadata": {},
   "outputs": [
    {
     "name": "stdout",
     "output_type": "stream",
     "text": [
      "[ 10  17  36  42  46  69  73  76  78  83  88  90 100 101]\n"
     ]
    }
   ],
   "source": [
    "print(noisy_frames_indices)"
   ]
  },
  {
   "cell_type": "code",
   "execution_count": 18,
   "metadata": {},
   "outputs": [],
   "source": [
    "# define true paths\n",
    "true_paths = [path for i, path in enumerate(paths) if i not in noisy_frames_indices]"
   ]
  },
  {
   "cell_type": "code",
   "execution_count": 19,
   "metadata": {},
   "outputs": [],
   "source": [
    "# define true features\n",
    "true_features = features[clf.predict(features) == 1]"
   ]
  },
  {
   "cell_type": "code",
   "execution_count": 20,
   "metadata": {},
   "outputs": [
    {
     "name": "stdout",
     "output_type": "stream",
     "text": [
      "[7 0 1 4 0 1 2 9 8 0 8 1 1 4 0 7 0 3 0 3 0 0 3 7 8 6 7 3 0 9 0 5 2 4 5 3 6\n",
      " 2 4 6 1 1 2 8 0 8 0 0 8 0 8 1 2 7 0 6 4 4 6 0 8 0 1 4 5 6 0 2 6 1 0 7 8 5\n",
      " 8 7 7 1 5 8 4 0 8 8 1 8 2 2 2 1 0 5 0 6 4 4 2 2 9 3]\n"
     ]
    }
   ],
   "source": [
    "# cluster the true features\n",
    "from sklearn.cluster import KMeans\n",
    "kmeans = KMeans(n_clusters=10, random_state=0,n_init=\"auto\").fit(true_features)\n",
    "print(kmeans.labels_)\n",
    "\n"
   ]
  },
  {
   "cell_type": "code",
   "execution_count": 21,
   "metadata": {},
   "outputs": [],
   "source": [
    "# get the indices of the frames in each cluster\n",
    "cluster_indices = []\n",
    "for i in range(10):\n",
    "    cluster_indices.append(np.where(kmeans.labels_ == i)[0])\n"
   ]
  },
  {
   "cell_type": "code",
   "execution_count": 22,
   "metadata": {},
   "outputs": [
    {
     "name": "stdout",
     "output_type": "stream",
     "text": [
      "[22, 12, 11, 6, 10, 6, 8, 8, 14, 3]\n"
     ]
    }
   ],
   "source": [
    "# get the size of each cluster\n",
    "cluster_sizes = [len(indices) for indices in cluster_indices]\n",
    "print(cluster_sizes)"
   ]
  },
  {
   "cell_type": "code",
   "execution_count": 23,
   "metadata": {},
   "outputs": [],
   "source": [
    "# convert the indices to paths\n",
    "cluster_paths = []\n",
    "for cluster in cluster_indices:\n",
    "    cluster_paths.append([true_paths[index] for index in cluster])\n"
   ]
  },
  {
   "cell_type": "code",
   "execution_count": 24,
   "metadata": {},
   "outputs": [
    {
     "name": "stdout",
     "output_type": "stream",
     "text": [
      "['../data/extracted/video_1/0000007.jpg', '../data/extracted/video_1/0000031.jpg', '../data/extracted/video_1/0000112.jpg']\n"
     ]
    }
   ],
   "source": [
    "print(cluster_paths[-1])"
   ]
  },
  {
   "cell_type": "code",
   "execution_count": 25,
   "metadata": {},
   "outputs": [
    {
     "name": "stdout",
     "output_type": "stream",
     "text": [
      "(114, 2)\n"
     ]
    }
   ],
   "source": [
    "# compute the t-SNE embedding of the features\n",
    "from sklearn.manifold import TSNE\n",
    "tsne = TSNE(n_components=2, random_state=0)\n",
    "embeddings = tsne.fit_transform(features)\n",
    "print(embeddings.shape)"
   ]
  },
  {
   "cell_type": "code",
   "execution_count": 26,
   "metadata": {},
   "outputs": [
    {
     "data": {
      "text/html": [
       "        <script type=\"text/javascript\">\n",
       "        window.PlotlyConfig = {MathJaxConfig: 'local'};\n",
       "        if (window.MathJax && window.MathJax.Hub && window.MathJax.Hub.Config) {window.MathJax.Hub.Config({SVG: {font: \"STIX-Web\"}});}\n",
       "        if (typeof require !== 'undefined') {\n",
       "        require.undef(\"plotly\");\n",
       "        requirejs.config({\n",
       "            paths: {\n",
       "                'plotly': ['https://cdn.plot.ly/plotly-2.17.1.min']\n",
       "            }\n",
       "        });\n",
       "        require(['plotly'], function(Plotly) {\n",
       "            window._Plotly = Plotly;\n",
       "        });\n",
       "        }\n",
       "        </script>\n",
       "        "
      ]
     },
     "metadata": {},
     "output_type": "display_data"
    },
    {
     "data": {
      "application/vnd.plotly.v1+json": {
       "config": {
        "plotlyServerURL": "https://plot.ly"
       },
       "data": [
        {
         "hoverinfo": "text",
         "marker": {
          "color": "blue",
          "line": {
           "color": "DarkSlateGrey",
           "width": 2
          },
          "size": 10,
          "symbol": "circle"
         },
         "mode": "markers",
         "text": [
          "../data/extracted/video_1/0000000.jpg",
          "../data/extracted/video_1/0000001.jpg",
          "../data/extracted/video_1/0000002.jpg",
          "../data/extracted/video_1/0000003.jpg",
          "../data/extracted/video_1/0000004.jpg",
          "../data/extracted/video_1/0000005.jpg",
          "../data/extracted/video_1/0000006.jpg",
          "../data/extracted/video_1/0000007.jpg",
          "../data/extracted/video_1/0000008.jpg",
          "../data/extracted/video_1/0000009.jpg",
          "../data/extracted/video_1/0000010.jpg",
          "../data/extracted/video_1/0000011.jpg",
          "../data/extracted/video_1/0000012.jpg",
          "../data/extracted/video_1/0000013.jpg",
          "../data/extracted/video_1/0000014.jpg",
          "../data/extracted/video_1/0000015.jpg",
          "../data/extracted/video_1/0000016.jpg",
          "../data/extracted/video_1/0000017.jpg",
          "../data/extracted/video_1/0000018.jpg",
          "../data/extracted/video_1/0000019.jpg",
          "../data/extracted/video_1/0000020.jpg",
          "../data/extracted/video_1/0000021.jpg",
          "../data/extracted/video_1/0000022.jpg",
          "../data/extracted/video_1/0000023.jpg",
          "../data/extracted/video_1/0000024.jpg",
          "../data/extracted/video_1/0000025.jpg",
          "../data/extracted/video_1/0000026.jpg",
          "../data/extracted/video_1/0000027.jpg",
          "../data/extracted/video_1/0000028.jpg",
          "../data/extracted/video_1/0000029.jpg",
          "../data/extracted/video_1/0000030.jpg",
          "../data/extracted/video_1/0000031.jpg",
          "../data/extracted/video_1/0000032.jpg",
          "../data/extracted/video_1/0000033.jpg",
          "../data/extracted/video_1/0000034.jpg",
          "../data/extracted/video_1/0000035.jpg",
          "../data/extracted/video_1/0000036.jpg",
          "../data/extracted/video_1/0000037.jpg",
          "../data/extracted/video_1/0000038.jpg",
          "../data/extracted/video_1/0000039.jpg",
          "../data/extracted/video_1/0000040.jpg",
          "../data/extracted/video_1/0000041.jpg",
          "../data/extracted/video_1/0000042.jpg",
          "../data/extracted/video_1/0000043.jpg",
          "../data/extracted/video_1/0000044.jpg",
          "../data/extracted/video_1/0000045.jpg",
          "../data/extracted/video_1/0000046.jpg",
          "../data/extracted/video_1/0000047.jpg",
          "../data/extracted/video_1/0000048.jpg",
          "../data/extracted/video_1/0000049.jpg",
          "../data/extracted/video_1/0000050.jpg",
          "../data/extracted/video_1/0000051.jpg",
          "../data/extracted/video_1/0000052.jpg",
          "../data/extracted/video_1/0000053.jpg",
          "../data/extracted/video_1/0000054.jpg",
          "../data/extracted/video_1/0000055.jpg",
          "../data/extracted/video_1/0000056.jpg",
          "../data/extracted/video_1/0000057.jpg",
          "../data/extracted/video_1/0000058.jpg",
          "../data/extracted/video_1/0000059.jpg",
          "../data/extracted/video_1/0000060.jpg",
          "../data/extracted/video_1/0000061.jpg",
          "../data/extracted/video_1/0000062.jpg",
          "../data/extracted/video_1/0000063.jpg",
          "../data/extracted/video_1/0000064.jpg",
          "../data/extracted/video_1/0000065.jpg",
          "../data/extracted/video_1/0000066.jpg",
          "../data/extracted/video_1/0000067.jpg",
          "../data/extracted/video_1/0000068.jpg",
          "../data/extracted/video_1/0000069.jpg",
          "../data/extracted/video_1/0000070.jpg",
          "../data/extracted/video_1/0000071.jpg",
          "../data/extracted/video_1/0000072.jpg",
          "../data/extracted/video_1/0000073.jpg",
          "../data/extracted/video_1/0000074.jpg",
          "../data/extracted/video_1/0000075.jpg",
          "../data/extracted/video_1/0000076.jpg",
          "../data/extracted/video_1/0000077.jpg",
          "../data/extracted/video_1/0000078.jpg",
          "../data/extracted/video_1/0000079.jpg",
          "../data/extracted/video_1/0000080.jpg",
          "../data/extracted/video_1/0000081.jpg",
          "../data/extracted/video_1/0000082.jpg",
          "../data/extracted/video_1/0000083.jpg",
          "../data/extracted/video_1/0000084.jpg",
          "../data/extracted/video_1/0000085.jpg",
          "../data/extracted/video_1/0000086.jpg",
          "../data/extracted/video_1/0000087.jpg",
          "../data/extracted/video_1/0000088.jpg",
          "../data/extracted/video_1/0000089.jpg",
          "../data/extracted/video_1/0000090.jpg",
          "../data/extracted/video_1/0000091.jpg",
          "../data/extracted/video_1/0000092.jpg",
          "../data/extracted/video_1/0000093.jpg",
          "../data/extracted/video_1/0000094.jpg",
          "../data/extracted/video_1/0000095.jpg",
          "../data/extracted/video_1/0000096.jpg",
          "../data/extracted/video_1/0000097.jpg",
          "../data/extracted/video_1/0000098.jpg",
          "../data/extracted/video_1/0000099.jpg",
          "../data/extracted/video_1/0000100.jpg",
          "../data/extracted/video_1/0000101.jpg",
          "../data/extracted/video_1/0000102.jpg",
          "../data/extracted/video_1/0000103.jpg",
          "../data/extracted/video_1/0000104.jpg",
          "../data/extracted/video_1/0000105.jpg",
          "../data/extracted/video_1/0000106.jpg",
          "../data/extracted/video_1/0000107.jpg",
          "../data/extracted/video_1/0000108.jpg",
          "../data/extracted/video_1/0000109.jpg",
          "../data/extracted/video_1/0000110.jpg",
          "../data/extracted/video_1/0000111.jpg",
          "../data/extracted/video_1/0000112.jpg",
          "../data/extracted/video_1/0000113.jpg"
         ],
         "type": "scatter",
         "x": [
          -1.7354995012283325,
          7.652225971221924,
          1.652359127998352,
          3.7993977069854736,
          6.235296249389648,
          3.2320261001586914,
          -2.3378968238830566,
          2.273711681365967,
          0.3902144432067871,
          6.884962558746338,
          4.617168426513672,
          0.26226407289505005,
          1.933248519897461,
          1.458752989768982,
          2.1083600521087646,
          6.434092998504639,
          -1.1973270177841187,
          4.937318801879883,
          6.530420303344727,
          0.901735246181488,
          7.314888954162598,
          1.3161671161651611,
          6.8772478103637695,
          7.051128387451172,
          -0.4705081582069397,
          -2.4698541164398193,
          0.05750763416290283,
          1.5081493854522705,
          -1.3206957578659058,
          0.262349933385849,
          7.32477331161499,
          2.3356220722198486,
          6.127597332000732,
          3.3799309730529785,
          -2.2479779720306396,
          4.799294948577881,
          0.9187391996383667,
          3.5000040531158447,
          1.3016889095306396,
          2.1406853199005127,
          -1.7119656801223755,
          2.3747313022613525,
          -2.9806323051452637,
          1.4074673652648926,
          2.8116204738616943,
          2.072486162185669,
          -1.2342770099639893,
          -1.2901357412338257,
          1.933009147644043,
          6.262426376342773,
          0.0647384524345398,
          6.247381210327148,
          7.163384437561035,
          0.25665539503097534,
          7.3340911865234375,
          -1.5135135650634766,
          2.9279160499572754,
          -1.8038028478622437,
          -1.124406337738037,
          6.298402309417725,
          1.1713811159133911,
          4.959777355194092,
          3.9568233489990234,
          1.9368360042572021,
          7.049195766448975,
          1.9108563661575317,
          6.228248596191406,
          2.9441938400268555,
          3.6528232097625732,
          -3.1060707569122314,
          2.331220865249634,
          2.2488324642181396,
          6.755707740783691,
          2.019871473312378,
          -1.101507306098938,
          1.7373414039611816,
          4.962263107299805,
          1.6579289436340332,
          4.409063816070557,
          7.298895359039307,
          -3.0698373317718506,
          0.7410658001899719,
          2.855926036834717,
          -3.5572800636291504,
          1.5471630096435547,
          -1.2309038639068604,
          -1.3867381811141968,
          2.1322245597839355,
          5.46608829498291,
          3.243251323699951,
          -2.648139476776123,
          -1.7537354230880737,
          2.567203998565674,
          6.577442169189453,
          -0.07872622460126877,
          -1.1376245021820068,
          3.1620030403137207,
          1.8362784385681152,
          -2.507481813430786,
          -2.352471113204956,
          -1.0429401397705078,
          2.2824249267578125,
          -3.033612012863159,
          1.917844295501709,
          6.255324840545654,
          2.759596347808838,
          6.492702484130859,
          0.6475713849067688,
          4.451892375946045,
          3.4990921020507812,
          -3.134925127029419,
          -1.1004271507263184,
          2.4524829387664795,
          0.3681168258190155
         ],
         "y": [
          1.1812351942062378,
          -1.3077785968780518,
          10.294807434082031,
          -6.145684242248535,
          -2.113100051879883,
          11.436394691467285,
          -3.8964579105377197,
          9.431670188903809,
          -4.3158440589904785,
          -5.241077423095703,
          2.8633360862731934,
          -3.251640796661377,
          11.672530174255371,
          10.772298812866211,
          -4.8357744216918945,
          -5.645043849945068,
          0.3830401301383972,
          2.894827127456665,
          -5.926920413970947,
          2.8788721561431885,
          -3.393780469894409,
          2.4924581050872803,
          -3.842491388320923,
          -1.8169803619384766,
          2.9659130573272705,
          1.0638707876205444,
          -3.296433925628662,
          5.043919563293457,
          0.756994903087616,
          3.129016876220703,
          -1.1246981620788574,
          8.957662582397461,
          -4.252904415130615,
          8.338729858398438,
          -2.2236788272857666,
          -6.346033096313477,
          1.665043592453003,
          7.864530086517334,
          2.595945358276367,
          6.105610370635986,
          -1.5860401391983032,
          -5.24015998840332,
          4.487820148468018,
          4.776788711547852,
          11.798955917358398,
          11.088560104370117,
          6.756772041320801,
          -2.106708288192749,
          -4.491703510284424,
          -3.2433507442474365,
          -4.044480800628662,
          -2.361314296722412,
          -2.7026219367980957,
          -4.328988075256348,
          -2.947559356689453,
          -3.9254605770111084,
          11.427781105041504,
          -1.3344261646270752,
          0.17787662148475647,
          -3.5263848304748535,
          4.5621256828308105,
          -6.0497145652771,
          -6.335830211639404,
          5.688133239746094,
          -4.96936559677124,
          -3.8732047080993652,
          -1.598172664642334,
          11.061563491821289,
          -5.953583717346191,
          4.871335029602051,
          7.0139641761779785,
          6.649566173553467,
          -3.2222297191619873,
          1.3486820459365845,
          -1.9134100675582886,
          5.056596755981445,
          2.308138132095337,
          10.948911666870117,
          3.0358023643493652,
          -1.7551077604293823,
          1.0335440635681152,
          -4.0782470703125,
          7.327173709869385,
          5.443328857421875,
          -3.586256504058838,
          -0.24540895223617554,
          1.0894312858581543,
          10.252924919128418,
          -0.6149374842643738,
          7.472397327423096,
          3.5736711025238037,
          -4.040445804595947,
          -5.413690090179443,
          -1.609141230583191,
          -3.4539408683776855,
          -3.840784788131714,
          10.711530685424805,
          -3.550619602203369,
          -2.9024949073791504,
          -2.512129068374634,
          6.633589267730713,
          2.680574893951416,
          -3.2263998985290527,
          11.399933815002441,
          -5.315885066986084,
          7.038631916046143,
          -4.628003120422363,
          4.113950729370117,
          -6.36604118347168,
          -5.551079750061035,
          -3.480546236038208,
          -1.7720204591751099,
          8.88131046295166,
          3.2842025756835938
         ]
        }
       ],
       "layout": {
        "hovermode": "closest",
        "showlegend": false,
        "template": {
         "data": {
          "bar": [
           {
            "error_x": {
             "color": "#2a3f5f"
            },
            "error_y": {
             "color": "#2a3f5f"
            },
            "marker": {
             "line": {
              "color": "#E5ECF6",
              "width": 0.5
             },
             "pattern": {
              "fillmode": "overlay",
              "size": 10,
              "solidity": 0.2
             }
            },
            "type": "bar"
           }
          ],
          "barpolar": [
           {
            "marker": {
             "line": {
              "color": "#E5ECF6",
              "width": 0.5
             },
             "pattern": {
              "fillmode": "overlay",
              "size": 10,
              "solidity": 0.2
             }
            },
            "type": "barpolar"
           }
          ],
          "carpet": [
           {
            "aaxis": {
             "endlinecolor": "#2a3f5f",
             "gridcolor": "white",
             "linecolor": "white",
             "minorgridcolor": "white",
             "startlinecolor": "#2a3f5f"
            },
            "baxis": {
             "endlinecolor": "#2a3f5f",
             "gridcolor": "white",
             "linecolor": "white",
             "minorgridcolor": "white",
             "startlinecolor": "#2a3f5f"
            },
            "type": "carpet"
           }
          ],
          "choropleth": [
           {
            "colorbar": {
             "outlinewidth": 0,
             "ticks": ""
            },
            "type": "choropleth"
           }
          ],
          "contour": [
           {
            "colorbar": {
             "outlinewidth": 0,
             "ticks": ""
            },
            "colorscale": [
             [
              0,
              "#0d0887"
             ],
             [
              0.1111111111111111,
              "#46039f"
             ],
             [
              0.2222222222222222,
              "#7201a8"
             ],
             [
              0.3333333333333333,
              "#9c179e"
             ],
             [
              0.4444444444444444,
              "#bd3786"
             ],
             [
              0.5555555555555556,
              "#d8576b"
             ],
             [
              0.6666666666666666,
              "#ed7953"
             ],
             [
              0.7777777777777778,
              "#fb9f3a"
             ],
             [
              0.8888888888888888,
              "#fdca26"
             ],
             [
              1,
              "#f0f921"
             ]
            ],
            "type": "contour"
           }
          ],
          "contourcarpet": [
           {
            "colorbar": {
             "outlinewidth": 0,
             "ticks": ""
            },
            "type": "contourcarpet"
           }
          ],
          "heatmap": [
           {
            "colorbar": {
             "outlinewidth": 0,
             "ticks": ""
            },
            "colorscale": [
             [
              0,
              "#0d0887"
             ],
             [
              0.1111111111111111,
              "#46039f"
             ],
             [
              0.2222222222222222,
              "#7201a8"
             ],
             [
              0.3333333333333333,
              "#9c179e"
             ],
             [
              0.4444444444444444,
              "#bd3786"
             ],
             [
              0.5555555555555556,
              "#d8576b"
             ],
             [
              0.6666666666666666,
              "#ed7953"
             ],
             [
              0.7777777777777778,
              "#fb9f3a"
             ],
             [
              0.8888888888888888,
              "#fdca26"
             ],
             [
              1,
              "#f0f921"
             ]
            ],
            "type": "heatmap"
           }
          ],
          "heatmapgl": [
           {
            "colorbar": {
             "outlinewidth": 0,
             "ticks": ""
            },
            "colorscale": [
             [
              0,
              "#0d0887"
             ],
             [
              0.1111111111111111,
              "#46039f"
             ],
             [
              0.2222222222222222,
              "#7201a8"
             ],
             [
              0.3333333333333333,
              "#9c179e"
             ],
             [
              0.4444444444444444,
              "#bd3786"
             ],
             [
              0.5555555555555556,
              "#d8576b"
             ],
             [
              0.6666666666666666,
              "#ed7953"
             ],
             [
              0.7777777777777778,
              "#fb9f3a"
             ],
             [
              0.8888888888888888,
              "#fdca26"
             ],
             [
              1,
              "#f0f921"
             ]
            ],
            "type": "heatmapgl"
           }
          ],
          "histogram": [
           {
            "marker": {
             "pattern": {
              "fillmode": "overlay",
              "size": 10,
              "solidity": 0.2
             }
            },
            "type": "histogram"
           }
          ],
          "histogram2d": [
           {
            "colorbar": {
             "outlinewidth": 0,
             "ticks": ""
            },
            "colorscale": [
             [
              0,
              "#0d0887"
             ],
             [
              0.1111111111111111,
              "#46039f"
             ],
             [
              0.2222222222222222,
              "#7201a8"
             ],
             [
              0.3333333333333333,
              "#9c179e"
             ],
             [
              0.4444444444444444,
              "#bd3786"
             ],
             [
              0.5555555555555556,
              "#d8576b"
             ],
             [
              0.6666666666666666,
              "#ed7953"
             ],
             [
              0.7777777777777778,
              "#fb9f3a"
             ],
             [
              0.8888888888888888,
              "#fdca26"
             ],
             [
              1,
              "#f0f921"
             ]
            ],
            "type": "histogram2d"
           }
          ],
          "histogram2dcontour": [
           {
            "colorbar": {
             "outlinewidth": 0,
             "ticks": ""
            },
            "colorscale": [
             [
              0,
              "#0d0887"
             ],
             [
              0.1111111111111111,
              "#46039f"
             ],
             [
              0.2222222222222222,
              "#7201a8"
             ],
             [
              0.3333333333333333,
              "#9c179e"
             ],
             [
              0.4444444444444444,
              "#bd3786"
             ],
             [
              0.5555555555555556,
              "#d8576b"
             ],
             [
              0.6666666666666666,
              "#ed7953"
             ],
             [
              0.7777777777777778,
              "#fb9f3a"
             ],
             [
              0.8888888888888888,
              "#fdca26"
             ],
             [
              1,
              "#f0f921"
             ]
            ],
            "type": "histogram2dcontour"
           }
          ],
          "mesh3d": [
           {
            "colorbar": {
             "outlinewidth": 0,
             "ticks": ""
            },
            "type": "mesh3d"
           }
          ],
          "parcoords": [
           {
            "line": {
             "colorbar": {
              "outlinewidth": 0,
              "ticks": ""
             }
            },
            "type": "parcoords"
           }
          ],
          "pie": [
           {
            "automargin": true,
            "type": "pie"
           }
          ],
          "scatter": [
           {
            "fillpattern": {
             "fillmode": "overlay",
             "size": 10,
             "solidity": 0.2
            },
            "type": "scatter"
           }
          ],
          "scatter3d": [
           {
            "line": {
             "colorbar": {
              "outlinewidth": 0,
              "ticks": ""
             }
            },
            "marker": {
             "colorbar": {
              "outlinewidth": 0,
              "ticks": ""
             }
            },
            "type": "scatter3d"
           }
          ],
          "scattercarpet": [
           {
            "marker": {
             "colorbar": {
              "outlinewidth": 0,
              "ticks": ""
             }
            },
            "type": "scattercarpet"
           }
          ],
          "scattergeo": [
           {
            "marker": {
             "colorbar": {
              "outlinewidth": 0,
              "ticks": ""
             }
            },
            "type": "scattergeo"
           }
          ],
          "scattergl": [
           {
            "marker": {
             "colorbar": {
              "outlinewidth": 0,
              "ticks": ""
             }
            },
            "type": "scattergl"
           }
          ],
          "scattermapbox": [
           {
            "marker": {
             "colorbar": {
              "outlinewidth": 0,
              "ticks": ""
             }
            },
            "type": "scattermapbox"
           }
          ],
          "scatterpolar": [
           {
            "marker": {
             "colorbar": {
              "outlinewidth": 0,
              "ticks": ""
             }
            },
            "type": "scatterpolar"
           }
          ],
          "scatterpolargl": [
           {
            "marker": {
             "colorbar": {
              "outlinewidth": 0,
              "ticks": ""
             }
            },
            "type": "scatterpolargl"
           }
          ],
          "scatterternary": [
           {
            "marker": {
             "colorbar": {
              "outlinewidth": 0,
              "ticks": ""
             }
            },
            "type": "scatterternary"
           }
          ],
          "surface": [
           {
            "colorbar": {
             "outlinewidth": 0,
             "ticks": ""
            },
            "colorscale": [
             [
              0,
              "#0d0887"
             ],
             [
              0.1111111111111111,
              "#46039f"
             ],
             [
              0.2222222222222222,
              "#7201a8"
             ],
             [
              0.3333333333333333,
              "#9c179e"
             ],
             [
              0.4444444444444444,
              "#bd3786"
             ],
             [
              0.5555555555555556,
              "#d8576b"
             ],
             [
              0.6666666666666666,
              "#ed7953"
             ],
             [
              0.7777777777777778,
              "#fb9f3a"
             ],
             [
              0.8888888888888888,
              "#fdca26"
             ],
             [
              1,
              "#f0f921"
             ]
            ],
            "type": "surface"
           }
          ],
          "table": [
           {
            "cells": {
             "fill": {
              "color": "#EBF0F8"
             },
             "line": {
              "color": "white"
             }
            },
            "header": {
             "fill": {
              "color": "#C8D4E3"
             },
             "line": {
              "color": "white"
             }
            },
            "type": "table"
           }
          ]
         },
         "layout": {
          "annotationdefaults": {
           "arrowcolor": "#2a3f5f",
           "arrowhead": 0,
           "arrowwidth": 1
          },
          "autotypenumbers": "strict",
          "coloraxis": {
           "colorbar": {
            "outlinewidth": 0,
            "ticks": ""
           }
          },
          "colorscale": {
           "diverging": [
            [
             0,
             "#8e0152"
            ],
            [
             0.1,
             "#c51b7d"
            ],
            [
             0.2,
             "#de77ae"
            ],
            [
             0.3,
             "#f1b6da"
            ],
            [
             0.4,
             "#fde0ef"
            ],
            [
             0.5,
             "#f7f7f7"
            ],
            [
             0.6,
             "#e6f5d0"
            ],
            [
             0.7,
             "#b8e186"
            ],
            [
             0.8,
             "#7fbc41"
            ],
            [
             0.9,
             "#4d9221"
            ],
            [
             1,
             "#276419"
            ]
           ],
           "sequential": [
            [
             0,
             "#0d0887"
            ],
            [
             0.1111111111111111,
             "#46039f"
            ],
            [
             0.2222222222222222,
             "#7201a8"
            ],
            [
             0.3333333333333333,
             "#9c179e"
            ],
            [
             0.4444444444444444,
             "#bd3786"
            ],
            [
             0.5555555555555556,
             "#d8576b"
            ],
            [
             0.6666666666666666,
             "#ed7953"
            ],
            [
             0.7777777777777778,
             "#fb9f3a"
            ],
            [
             0.8888888888888888,
             "#fdca26"
            ],
            [
             1,
             "#f0f921"
            ]
           ],
           "sequentialminus": [
            [
             0,
             "#0d0887"
            ],
            [
             0.1111111111111111,
             "#46039f"
            ],
            [
             0.2222222222222222,
             "#7201a8"
            ],
            [
             0.3333333333333333,
             "#9c179e"
            ],
            [
             0.4444444444444444,
             "#bd3786"
            ],
            [
             0.5555555555555556,
             "#d8576b"
            ],
            [
             0.6666666666666666,
             "#ed7953"
            ],
            [
             0.7777777777777778,
             "#fb9f3a"
            ],
            [
             0.8888888888888888,
             "#fdca26"
            ],
            [
             1,
             "#f0f921"
            ]
           ]
          },
          "colorway": [
           "#636efa",
           "#EF553B",
           "#00cc96",
           "#ab63fa",
           "#FFA15A",
           "#19d3f3",
           "#FF6692",
           "#B6E880",
           "#FF97FF",
           "#FECB52"
          ],
          "font": {
           "color": "#2a3f5f"
          },
          "geo": {
           "bgcolor": "white",
           "lakecolor": "white",
           "landcolor": "#E5ECF6",
           "showlakes": true,
           "showland": true,
           "subunitcolor": "white"
          },
          "hoverlabel": {
           "align": "left"
          },
          "hovermode": "closest",
          "mapbox": {
           "style": "light"
          },
          "paper_bgcolor": "white",
          "plot_bgcolor": "#E5ECF6",
          "polar": {
           "angularaxis": {
            "gridcolor": "white",
            "linecolor": "white",
            "ticks": ""
           },
           "bgcolor": "#E5ECF6",
           "radialaxis": {
            "gridcolor": "white",
            "linecolor": "white",
            "ticks": ""
           }
          },
          "scene": {
           "xaxis": {
            "backgroundcolor": "#E5ECF6",
            "gridcolor": "white",
            "gridwidth": 2,
            "linecolor": "white",
            "showbackground": true,
            "ticks": "",
            "zerolinecolor": "white"
           },
           "yaxis": {
            "backgroundcolor": "#E5ECF6",
            "gridcolor": "white",
            "gridwidth": 2,
            "linecolor": "white",
            "showbackground": true,
            "ticks": "",
            "zerolinecolor": "white"
           },
           "zaxis": {
            "backgroundcolor": "#E5ECF6",
            "gridcolor": "white",
            "gridwidth": 2,
            "linecolor": "white",
            "showbackground": true,
            "ticks": "",
            "zerolinecolor": "white"
           }
          },
          "shapedefaults": {
           "line": {
            "color": "#2a3f5f"
           }
          },
          "ternary": {
           "aaxis": {
            "gridcolor": "white",
            "linecolor": "white",
            "ticks": ""
           },
           "baxis": {
            "gridcolor": "white",
            "linecolor": "white",
            "ticks": ""
           },
           "bgcolor": "#E5ECF6",
           "caxis": {
            "gridcolor": "white",
            "linecolor": "white",
            "ticks": ""
           }
          },
          "title": {
           "x": 0.05
          },
          "xaxis": {
           "automargin": true,
           "gridcolor": "white",
           "linecolor": "white",
           "ticks": "",
           "title": {
            "standoff": 15
           },
           "zerolinecolor": "white",
           "zerolinewidth": 2
          },
          "yaxis": {
           "automargin": true,
           "gridcolor": "white",
           "linecolor": "white",
           "ticks": "",
           "title": {
            "standoff": 15
           },
           "zerolinecolor": "white",
           "zerolinewidth": 2
          }
         }
        },
        "xaxis": {
         "title": {
          "text": "X"
         }
        },
        "yaxis": {
         "title": {
          "text": "Y"
         }
        }
       }
      },
      "text/html": [
       "<div>                            <div id=\"9e13644d-42ac-45ee-84ba-9f2932671ba8\" class=\"plotly-graph-div\" style=\"height:525px; width:100%;\"></div>            <script type=\"text/javascript\">                require([\"plotly\"], function(Plotly) {                    window.PLOTLYENV=window.PLOTLYENV || {};                                    if (document.getElementById(\"9e13644d-42ac-45ee-84ba-9f2932671ba8\")) {                    Plotly.newPlot(                        \"9e13644d-42ac-45ee-84ba-9f2932671ba8\",                        [{\"hoverinfo\":\"text\",\"marker\":{\"color\":\"blue\",\"line\":{\"color\":\"DarkSlateGrey\",\"width\":2},\"size\":10,\"symbol\":\"circle\"},\"mode\":\"markers\",\"text\":[\"../data/extracted/video_1/0000000.jpg\",\"../data/extracted/video_1/0000001.jpg\",\"../data/extracted/video_1/0000002.jpg\",\"../data/extracted/video_1/0000003.jpg\",\"../data/extracted/video_1/0000004.jpg\",\"../data/extracted/video_1/0000005.jpg\",\"../data/extracted/video_1/0000006.jpg\",\"../data/extracted/video_1/0000007.jpg\",\"../data/extracted/video_1/0000008.jpg\",\"../data/extracted/video_1/0000009.jpg\",\"../data/extracted/video_1/0000010.jpg\",\"../data/extracted/video_1/0000011.jpg\",\"../data/extracted/video_1/0000012.jpg\",\"../data/extracted/video_1/0000013.jpg\",\"../data/extracted/video_1/0000014.jpg\",\"../data/extracted/video_1/0000015.jpg\",\"../data/extracted/video_1/0000016.jpg\",\"../data/extracted/video_1/0000017.jpg\",\"../data/extracted/video_1/0000018.jpg\",\"../data/extracted/video_1/0000019.jpg\",\"../data/extracted/video_1/0000020.jpg\",\"../data/extracted/video_1/0000021.jpg\",\"../data/extracted/video_1/0000022.jpg\",\"../data/extracted/video_1/0000023.jpg\",\"../data/extracted/video_1/0000024.jpg\",\"../data/extracted/video_1/0000025.jpg\",\"../data/extracted/video_1/0000026.jpg\",\"../data/extracted/video_1/0000027.jpg\",\"../data/extracted/video_1/0000028.jpg\",\"../data/extracted/video_1/0000029.jpg\",\"../data/extracted/video_1/0000030.jpg\",\"../data/extracted/video_1/0000031.jpg\",\"../data/extracted/video_1/0000032.jpg\",\"../data/extracted/video_1/0000033.jpg\",\"../data/extracted/video_1/0000034.jpg\",\"../data/extracted/video_1/0000035.jpg\",\"../data/extracted/video_1/0000036.jpg\",\"../data/extracted/video_1/0000037.jpg\",\"../data/extracted/video_1/0000038.jpg\",\"../data/extracted/video_1/0000039.jpg\",\"../data/extracted/video_1/0000040.jpg\",\"../data/extracted/video_1/0000041.jpg\",\"../data/extracted/video_1/0000042.jpg\",\"../data/extracted/video_1/0000043.jpg\",\"../data/extracted/video_1/0000044.jpg\",\"../data/extracted/video_1/0000045.jpg\",\"../data/extracted/video_1/0000046.jpg\",\"../data/extracted/video_1/0000047.jpg\",\"../data/extracted/video_1/0000048.jpg\",\"../data/extracted/video_1/0000049.jpg\",\"../data/extracted/video_1/0000050.jpg\",\"../data/extracted/video_1/0000051.jpg\",\"../data/extracted/video_1/0000052.jpg\",\"../data/extracted/video_1/0000053.jpg\",\"../data/extracted/video_1/0000054.jpg\",\"../data/extracted/video_1/0000055.jpg\",\"../data/extracted/video_1/0000056.jpg\",\"../data/extracted/video_1/0000057.jpg\",\"../data/extracted/video_1/0000058.jpg\",\"../data/extracted/video_1/0000059.jpg\",\"../data/extracted/video_1/0000060.jpg\",\"../data/extracted/video_1/0000061.jpg\",\"../data/extracted/video_1/0000062.jpg\",\"../data/extracted/video_1/0000063.jpg\",\"../data/extracted/video_1/0000064.jpg\",\"../data/extracted/video_1/0000065.jpg\",\"../data/extracted/video_1/0000066.jpg\",\"../data/extracted/video_1/0000067.jpg\",\"../data/extracted/video_1/0000068.jpg\",\"../data/extracted/video_1/0000069.jpg\",\"../data/extracted/video_1/0000070.jpg\",\"../data/extracted/video_1/0000071.jpg\",\"../data/extracted/video_1/0000072.jpg\",\"../data/extracted/video_1/0000073.jpg\",\"../data/extracted/video_1/0000074.jpg\",\"../data/extracted/video_1/0000075.jpg\",\"../data/extracted/video_1/0000076.jpg\",\"../data/extracted/video_1/0000077.jpg\",\"../data/extracted/video_1/0000078.jpg\",\"../data/extracted/video_1/0000079.jpg\",\"../data/extracted/video_1/0000080.jpg\",\"../data/extracted/video_1/0000081.jpg\",\"../data/extracted/video_1/0000082.jpg\",\"../data/extracted/video_1/0000083.jpg\",\"../data/extracted/video_1/0000084.jpg\",\"../data/extracted/video_1/0000085.jpg\",\"../data/extracted/video_1/0000086.jpg\",\"../data/extracted/video_1/0000087.jpg\",\"../data/extracted/video_1/0000088.jpg\",\"../data/extracted/video_1/0000089.jpg\",\"../data/extracted/video_1/0000090.jpg\",\"../data/extracted/video_1/0000091.jpg\",\"../data/extracted/video_1/0000092.jpg\",\"../data/extracted/video_1/0000093.jpg\",\"../data/extracted/video_1/0000094.jpg\",\"../data/extracted/video_1/0000095.jpg\",\"../data/extracted/video_1/0000096.jpg\",\"../data/extracted/video_1/0000097.jpg\",\"../data/extracted/video_1/0000098.jpg\",\"../data/extracted/video_1/0000099.jpg\",\"../data/extracted/video_1/0000100.jpg\",\"../data/extracted/video_1/0000101.jpg\",\"../data/extracted/video_1/0000102.jpg\",\"../data/extracted/video_1/0000103.jpg\",\"../data/extracted/video_1/0000104.jpg\",\"../data/extracted/video_1/0000105.jpg\",\"../data/extracted/video_1/0000106.jpg\",\"../data/extracted/video_1/0000107.jpg\",\"../data/extracted/video_1/0000108.jpg\",\"../data/extracted/video_1/0000109.jpg\",\"../data/extracted/video_1/0000110.jpg\",\"../data/extracted/video_1/0000111.jpg\",\"../data/extracted/video_1/0000112.jpg\",\"../data/extracted/video_1/0000113.jpg\"],\"x\":[-1.7354995012283325,7.652225971221924,1.652359127998352,3.7993977069854736,6.235296249389648,3.2320261001586914,-2.3378968238830566,2.273711681365967,0.3902144432067871,6.884962558746338,4.617168426513672,0.26226407289505005,1.933248519897461,1.458752989768982,2.1083600521087646,6.434092998504639,-1.1973270177841187,4.937318801879883,6.530420303344727,0.901735246181488,7.314888954162598,1.3161671161651611,6.8772478103637695,7.051128387451172,-0.4705081582069397,-2.4698541164398193,0.05750763416290283,1.5081493854522705,-1.3206957578659058,0.262349933385849,7.32477331161499,2.3356220722198486,6.127597332000732,3.3799309730529785,-2.2479779720306396,4.799294948577881,0.9187391996383667,3.5000040531158447,1.3016889095306396,2.1406853199005127,-1.7119656801223755,2.3747313022613525,-2.9806323051452637,1.4074673652648926,2.8116204738616943,2.072486162185669,-1.2342770099639893,-1.2901357412338257,1.933009147644043,6.262426376342773,0.0647384524345398,6.247381210327148,7.163384437561035,0.25665539503097534,7.3340911865234375,-1.5135135650634766,2.9279160499572754,-1.8038028478622437,-1.124406337738037,6.298402309417725,1.1713811159133911,4.959777355194092,3.9568233489990234,1.9368360042572021,7.049195766448975,1.9108563661575317,6.228248596191406,2.9441938400268555,3.6528232097625732,-3.1060707569122314,2.331220865249634,2.2488324642181396,6.755707740783691,2.019871473312378,-1.101507306098938,1.7373414039611816,4.962263107299805,1.6579289436340332,4.409063816070557,7.298895359039307,-3.0698373317718506,0.7410658001899719,2.855926036834717,-3.5572800636291504,1.5471630096435547,-1.2309038639068604,-1.3867381811141968,2.1322245597839355,5.46608829498291,3.243251323699951,-2.648139476776123,-1.7537354230880737,2.567203998565674,6.577442169189453,-0.07872622460126877,-1.1376245021820068,3.1620030403137207,1.8362784385681152,-2.507481813430786,-2.352471113204956,-1.0429401397705078,2.2824249267578125,-3.033612012863159,1.917844295501709,6.255324840545654,2.759596347808838,6.492702484130859,0.6475713849067688,4.451892375946045,3.4990921020507812,-3.134925127029419,-1.1004271507263184,2.4524829387664795,0.3681168258190155],\"y\":[1.1812351942062378,-1.3077785968780518,10.294807434082031,-6.145684242248535,-2.113100051879883,11.436394691467285,-3.8964579105377197,9.431670188903809,-4.3158440589904785,-5.241077423095703,2.8633360862731934,-3.251640796661377,11.672530174255371,10.772298812866211,-4.8357744216918945,-5.645043849945068,0.3830401301383972,2.894827127456665,-5.926920413970947,2.8788721561431885,-3.393780469894409,2.4924581050872803,-3.842491388320923,-1.8169803619384766,2.9659130573272705,1.0638707876205444,-3.296433925628662,5.043919563293457,0.756994903087616,3.129016876220703,-1.1246981620788574,8.957662582397461,-4.252904415130615,8.338729858398438,-2.2236788272857666,-6.346033096313477,1.665043592453003,7.864530086517334,2.595945358276367,6.105610370635986,-1.5860401391983032,-5.24015998840332,4.487820148468018,4.776788711547852,11.798955917358398,11.088560104370117,6.756772041320801,-2.106708288192749,-4.491703510284424,-3.2433507442474365,-4.044480800628662,-2.361314296722412,-2.7026219367980957,-4.328988075256348,-2.947559356689453,-3.9254605770111084,11.427781105041504,-1.3344261646270752,0.17787662148475647,-3.5263848304748535,4.5621256828308105,-6.0497145652771,-6.335830211639404,5.688133239746094,-4.96936559677124,-3.8732047080993652,-1.598172664642334,11.061563491821289,-5.953583717346191,4.871335029602051,7.0139641761779785,6.649566173553467,-3.2222297191619873,1.3486820459365845,-1.9134100675582886,5.056596755981445,2.308138132095337,10.948911666870117,3.0358023643493652,-1.7551077604293823,1.0335440635681152,-4.0782470703125,7.327173709869385,5.443328857421875,-3.586256504058838,-0.24540895223617554,1.0894312858581543,10.252924919128418,-0.6149374842643738,7.472397327423096,3.5736711025238037,-4.040445804595947,-5.413690090179443,-1.609141230583191,-3.4539408683776855,-3.840784788131714,10.711530685424805,-3.550619602203369,-2.9024949073791504,-2.512129068374634,6.633589267730713,2.680574893951416,-3.2263998985290527,11.399933815002441,-5.315885066986084,7.038631916046143,-4.628003120422363,4.113950729370117,-6.36604118347168,-5.551079750061035,-3.480546236038208,-1.7720204591751099,8.88131046295166,3.2842025756835938],\"type\":\"scatter\"}],                        {\"hovermode\":\"closest\",\"showlegend\":false,\"xaxis\":{\"title\":{\"text\":\"X\"}},\"yaxis\":{\"title\":{\"text\":\"Y\"}},\"template\":{\"data\":{\"histogram2dcontour\":[{\"type\":\"histogram2dcontour\",\"colorbar\":{\"outlinewidth\":0,\"ticks\":\"\"},\"colorscale\":[[0.0,\"#0d0887\"],[0.1111111111111111,\"#46039f\"],[0.2222222222222222,\"#7201a8\"],[0.3333333333333333,\"#9c179e\"],[0.4444444444444444,\"#bd3786\"],[0.5555555555555556,\"#d8576b\"],[0.6666666666666666,\"#ed7953\"],[0.7777777777777778,\"#fb9f3a\"],[0.8888888888888888,\"#fdca26\"],[1.0,\"#f0f921\"]]}],\"choropleth\":[{\"type\":\"choropleth\",\"colorbar\":{\"outlinewidth\":0,\"ticks\":\"\"}}],\"histogram2d\":[{\"type\":\"histogram2d\",\"colorbar\":{\"outlinewidth\":0,\"ticks\":\"\"},\"colorscale\":[[0.0,\"#0d0887\"],[0.1111111111111111,\"#46039f\"],[0.2222222222222222,\"#7201a8\"],[0.3333333333333333,\"#9c179e\"],[0.4444444444444444,\"#bd3786\"],[0.5555555555555556,\"#d8576b\"],[0.6666666666666666,\"#ed7953\"],[0.7777777777777778,\"#fb9f3a\"],[0.8888888888888888,\"#fdca26\"],[1.0,\"#f0f921\"]]}],\"heatmap\":[{\"type\":\"heatmap\",\"colorbar\":{\"outlinewidth\":0,\"ticks\":\"\"},\"colorscale\":[[0.0,\"#0d0887\"],[0.1111111111111111,\"#46039f\"],[0.2222222222222222,\"#7201a8\"],[0.3333333333333333,\"#9c179e\"],[0.4444444444444444,\"#bd3786\"],[0.5555555555555556,\"#d8576b\"],[0.6666666666666666,\"#ed7953\"],[0.7777777777777778,\"#fb9f3a\"],[0.8888888888888888,\"#fdca26\"],[1.0,\"#f0f921\"]]}],\"heatmapgl\":[{\"type\":\"heatmapgl\",\"colorbar\":{\"outlinewidth\":0,\"ticks\":\"\"},\"colorscale\":[[0.0,\"#0d0887\"],[0.1111111111111111,\"#46039f\"],[0.2222222222222222,\"#7201a8\"],[0.3333333333333333,\"#9c179e\"],[0.4444444444444444,\"#bd3786\"],[0.5555555555555556,\"#d8576b\"],[0.6666666666666666,\"#ed7953\"],[0.7777777777777778,\"#fb9f3a\"],[0.8888888888888888,\"#fdca26\"],[1.0,\"#f0f921\"]]}],\"contourcarpet\":[{\"type\":\"contourcarpet\",\"colorbar\":{\"outlinewidth\":0,\"ticks\":\"\"}}],\"contour\":[{\"type\":\"contour\",\"colorbar\":{\"outlinewidth\":0,\"ticks\":\"\"},\"colorscale\":[[0.0,\"#0d0887\"],[0.1111111111111111,\"#46039f\"],[0.2222222222222222,\"#7201a8\"],[0.3333333333333333,\"#9c179e\"],[0.4444444444444444,\"#bd3786\"],[0.5555555555555556,\"#d8576b\"],[0.6666666666666666,\"#ed7953\"],[0.7777777777777778,\"#fb9f3a\"],[0.8888888888888888,\"#fdca26\"],[1.0,\"#f0f921\"]]}],\"surface\":[{\"type\":\"surface\",\"colorbar\":{\"outlinewidth\":0,\"ticks\":\"\"},\"colorscale\":[[0.0,\"#0d0887\"],[0.1111111111111111,\"#46039f\"],[0.2222222222222222,\"#7201a8\"],[0.3333333333333333,\"#9c179e\"],[0.4444444444444444,\"#bd3786\"],[0.5555555555555556,\"#d8576b\"],[0.6666666666666666,\"#ed7953\"],[0.7777777777777778,\"#fb9f3a\"],[0.8888888888888888,\"#fdca26\"],[1.0,\"#f0f921\"]]}],\"mesh3d\":[{\"type\":\"mesh3d\",\"colorbar\":{\"outlinewidth\":0,\"ticks\":\"\"}}],\"scatter\":[{\"fillpattern\":{\"fillmode\":\"overlay\",\"size\":10,\"solidity\":0.2},\"type\":\"scatter\"}],\"parcoords\":[{\"type\":\"parcoords\",\"line\":{\"colorbar\":{\"outlinewidth\":0,\"ticks\":\"\"}}}],\"scatterpolargl\":[{\"type\":\"scatterpolargl\",\"marker\":{\"colorbar\":{\"outlinewidth\":0,\"ticks\":\"\"}}}],\"bar\":[{\"error_x\":{\"color\":\"#2a3f5f\"},\"error_y\":{\"color\":\"#2a3f5f\"},\"marker\":{\"line\":{\"color\":\"#E5ECF6\",\"width\":0.5},\"pattern\":{\"fillmode\":\"overlay\",\"size\":10,\"solidity\":0.2}},\"type\":\"bar\"}],\"scattergeo\":[{\"type\":\"scattergeo\",\"marker\":{\"colorbar\":{\"outlinewidth\":0,\"ticks\":\"\"}}}],\"scatterpolar\":[{\"type\":\"scatterpolar\",\"marker\":{\"colorbar\":{\"outlinewidth\":0,\"ticks\":\"\"}}}],\"histogram\":[{\"marker\":{\"pattern\":{\"fillmode\":\"overlay\",\"size\":10,\"solidity\":0.2}},\"type\":\"histogram\"}],\"scattergl\":[{\"type\":\"scattergl\",\"marker\":{\"colorbar\":{\"outlinewidth\":0,\"ticks\":\"\"}}}],\"scatter3d\":[{\"type\":\"scatter3d\",\"line\":{\"colorbar\":{\"outlinewidth\":0,\"ticks\":\"\"}},\"marker\":{\"colorbar\":{\"outlinewidth\":0,\"ticks\":\"\"}}}],\"scattermapbox\":[{\"type\":\"scattermapbox\",\"marker\":{\"colorbar\":{\"outlinewidth\":0,\"ticks\":\"\"}}}],\"scatterternary\":[{\"type\":\"scatterternary\",\"marker\":{\"colorbar\":{\"outlinewidth\":0,\"ticks\":\"\"}}}],\"scattercarpet\":[{\"type\":\"scattercarpet\",\"marker\":{\"colorbar\":{\"outlinewidth\":0,\"ticks\":\"\"}}}],\"carpet\":[{\"aaxis\":{\"endlinecolor\":\"#2a3f5f\",\"gridcolor\":\"white\",\"linecolor\":\"white\",\"minorgridcolor\":\"white\",\"startlinecolor\":\"#2a3f5f\"},\"baxis\":{\"endlinecolor\":\"#2a3f5f\",\"gridcolor\":\"white\",\"linecolor\":\"white\",\"minorgridcolor\":\"white\",\"startlinecolor\":\"#2a3f5f\"},\"type\":\"carpet\"}],\"table\":[{\"cells\":{\"fill\":{\"color\":\"#EBF0F8\"},\"line\":{\"color\":\"white\"}},\"header\":{\"fill\":{\"color\":\"#C8D4E3\"},\"line\":{\"color\":\"white\"}},\"type\":\"table\"}],\"barpolar\":[{\"marker\":{\"line\":{\"color\":\"#E5ECF6\",\"width\":0.5},\"pattern\":{\"fillmode\":\"overlay\",\"size\":10,\"solidity\":0.2}},\"type\":\"barpolar\"}],\"pie\":[{\"automargin\":true,\"type\":\"pie\"}]},\"layout\":{\"autotypenumbers\":\"strict\",\"colorway\":[\"#636efa\",\"#EF553B\",\"#00cc96\",\"#ab63fa\",\"#FFA15A\",\"#19d3f3\",\"#FF6692\",\"#B6E880\",\"#FF97FF\",\"#FECB52\"],\"font\":{\"color\":\"#2a3f5f\"},\"hovermode\":\"closest\",\"hoverlabel\":{\"align\":\"left\"},\"paper_bgcolor\":\"white\",\"plot_bgcolor\":\"#E5ECF6\",\"polar\":{\"bgcolor\":\"#E5ECF6\",\"angularaxis\":{\"gridcolor\":\"white\",\"linecolor\":\"white\",\"ticks\":\"\"},\"radialaxis\":{\"gridcolor\":\"white\",\"linecolor\":\"white\",\"ticks\":\"\"}},\"ternary\":{\"bgcolor\":\"#E5ECF6\",\"aaxis\":{\"gridcolor\":\"white\",\"linecolor\":\"white\",\"ticks\":\"\"},\"baxis\":{\"gridcolor\":\"white\",\"linecolor\":\"white\",\"ticks\":\"\"},\"caxis\":{\"gridcolor\":\"white\",\"linecolor\":\"white\",\"ticks\":\"\"}},\"coloraxis\":{\"colorbar\":{\"outlinewidth\":0,\"ticks\":\"\"}},\"colorscale\":{\"sequential\":[[0.0,\"#0d0887\"],[0.1111111111111111,\"#46039f\"],[0.2222222222222222,\"#7201a8\"],[0.3333333333333333,\"#9c179e\"],[0.4444444444444444,\"#bd3786\"],[0.5555555555555556,\"#d8576b\"],[0.6666666666666666,\"#ed7953\"],[0.7777777777777778,\"#fb9f3a\"],[0.8888888888888888,\"#fdca26\"],[1.0,\"#f0f921\"]],\"sequentialminus\":[[0.0,\"#0d0887\"],[0.1111111111111111,\"#46039f\"],[0.2222222222222222,\"#7201a8\"],[0.3333333333333333,\"#9c179e\"],[0.4444444444444444,\"#bd3786\"],[0.5555555555555556,\"#d8576b\"],[0.6666666666666666,\"#ed7953\"],[0.7777777777777778,\"#fb9f3a\"],[0.8888888888888888,\"#fdca26\"],[1.0,\"#f0f921\"]],\"diverging\":[[0,\"#8e0152\"],[0.1,\"#c51b7d\"],[0.2,\"#de77ae\"],[0.3,\"#f1b6da\"],[0.4,\"#fde0ef\"],[0.5,\"#f7f7f7\"],[0.6,\"#e6f5d0\"],[0.7,\"#b8e186\"],[0.8,\"#7fbc41\"],[0.9,\"#4d9221\"],[1,\"#276419\"]]},\"xaxis\":{\"gridcolor\":\"white\",\"linecolor\":\"white\",\"ticks\":\"\",\"title\":{\"standoff\":15},\"zerolinecolor\":\"white\",\"automargin\":true,\"zerolinewidth\":2},\"yaxis\":{\"gridcolor\":\"white\",\"linecolor\":\"white\",\"ticks\":\"\",\"title\":{\"standoff\":15},\"zerolinecolor\":\"white\",\"automargin\":true,\"zerolinewidth\":2},\"scene\":{\"xaxis\":{\"backgroundcolor\":\"#E5ECF6\",\"gridcolor\":\"white\",\"linecolor\":\"white\",\"showbackground\":true,\"ticks\":\"\",\"zerolinecolor\":\"white\",\"gridwidth\":2},\"yaxis\":{\"backgroundcolor\":\"#E5ECF6\",\"gridcolor\":\"white\",\"linecolor\":\"white\",\"showbackground\":true,\"ticks\":\"\",\"zerolinecolor\":\"white\",\"gridwidth\":2},\"zaxis\":{\"backgroundcolor\":\"#E5ECF6\",\"gridcolor\":\"white\",\"linecolor\":\"white\",\"showbackground\":true,\"ticks\":\"\",\"zerolinecolor\":\"white\",\"gridwidth\":2}},\"shapedefaults\":{\"line\":{\"color\":\"#2a3f5f\"}},\"annotationdefaults\":{\"arrowcolor\":\"#2a3f5f\",\"arrowhead\":0,\"arrowwidth\":1},\"geo\":{\"bgcolor\":\"white\",\"landcolor\":\"#E5ECF6\",\"subunitcolor\":\"white\",\"showland\":true,\"showlakes\":true,\"lakecolor\":\"white\"},\"title\":{\"x\":0.05},\"mapbox\":{\"style\":\"light\"}}}},                        {\"responsive\": true}                    ).then(function(){\n",
       "                            \n",
       "var gd = document.getElementById('9e13644d-42ac-45ee-84ba-9f2932671ba8');\n",
       "var x = new MutationObserver(function (mutations, observer) {{\n",
       "        var display = window.getComputedStyle(gd).display;\n",
       "        if (!display || display === 'none') {{\n",
       "            console.log([gd, 'removed!']);\n",
       "            Plotly.purge(gd);\n",
       "            observer.disconnect();\n",
       "        }}\n",
       "}});\n",
       "\n",
       "// Listen for the removal of the full notebook cells\n",
       "var notebookContainer = gd.closest('#notebook-container');\n",
       "if (notebookContainer) {{\n",
       "    x.observe(notebookContainer, {childList: true});\n",
       "}}\n",
       "\n",
       "// Listen for the clearing of the current output cell\n",
       "var outputEl = gd.closest('.output');\n",
       "if (outputEl) {{\n",
       "    x.observe(outputEl, {childList: true});\n",
       "}}\n",
       "\n",
       "                        })                };                });            </script>        </div>"
      ]
     },
     "metadata": {},
     "output_type": "display_data"
    }
   ],
   "source": [
    "import plotly.graph_objs as go\n",
    "from plotly.offline import init_notebook_mode, iplot\n",
    "from plotly.offline import plot\n",
    "init_notebook_mode(connected=True)\n",
    "\n",
    "from IPython.display import Image\n",
    "\n",
    "# create the scatter plot\n",
    "trace = go.Scatter(\n",
    "    x=embeddings[:, 0],\n",
    "    y=embeddings[:, 1],\n",
    "    mode='markers',\n",
    "    text=[path for path in paths],\n",
    "    hoverinfo='text',\n",
    "    marker=dict(\n",
    "        size=10,\n",
    "        color='blue',\n",
    "        symbol='circle',\n",
    "        line=dict(\n",
    "            width=2,\n",
    "            color='DarkSlateGrey'\n",
    "        )\n",
    "    )\n",
    ")\n",
    "\n",
    "# create the layout\n",
    "layout = go.Layout(\n",
    "    xaxis=dict(title='X'),\n",
    "    yaxis=dict(title='Y'),\n",
    "    hovermode='closest',\n",
    "    showlegend=False\n",
    ")\n",
    "\n",
    "# create the scatter plot figure\n",
    "fig = go.Figure(data=[trace], layout=layout)\n",
    "\n",
    "# create a function to display the image when a point is clicked\n",
    "def show_image(trace, points, state):\n",
    "    ind = points.point_inds[0]\n",
    "    img = Image(paths[ind])\n",
    "    display(img)\n",
    "\n",
    "# add the click event to the scatter plot\n",
    "fig.data[0].on_click(show_image)\n",
    "\n",
    "# show the scatter plot\n",
    "#plot(fig, filename='scatter_with_images.html')\n",
    "fig.show()"
   ]
  },
  {
   "cell_type": "code",
   "execution_count": 27,
   "metadata": {},
   "outputs": [],
   "source": [
    "img1 = cv2.imread(paths[0], cv2.IMREAD_GRAYSCALE)\n",
    "img2 = cv2.imread(paths[1], cv2.IMREAD_GRAYSCALE)\n",
    "# Initiate SIFT detector\n",
    "sift = cv2.SIFT_create()"
   ]
  },
  {
   "cell_type": "code",
   "execution_count": 28,
   "metadata": {},
   "outputs": [],
   "source": [
    "# find the keypoints and descriptors with SIFT\n",
    "kp1, des1 = sift.detectAndCompute(img1,None)\n",
    "kp2, des2 = sift.detectAndCompute(img2,None)"
   ]
  },
  {
   "cell_type": "code",
   "execution_count": 29,
   "metadata": {},
   "outputs": [],
   "source": [
    "\n",
    "img=cv2.drawKeypoints(img1,kp1,img1, flags=cv2.DRAW_MATCHES_FLAGS_DRAW_RICH_KEYPOINTS)"
   ]
  },
  {
   "cell_type": "code",
   "execution_count": 30,
   "metadata": {},
   "outputs": [
    {
     "data": {
      "image/png": "[encoded data removed]",
      "text/plain": [
       "<Figure size 640x480 with 1 Axes>"
      ]
     },
     "metadata": {},
     "output_type": "display_data"
    },
    {
     "data": {
      "text/plain": [
       "(<matplotlib.image.AxesImage at 0x7f4673b07fd0>, None)"
      ]
     },
     "execution_count": 30,
     "metadata": {},
     "output_type": "execute_result"
    }
   ],
   "source": [
    "plt.imshow(img),plt.show()"
   ]
  },
  {
   "cell_type": "code",
   "execution_count": 31,
   "metadata": {},
   "outputs": [],
   "source": [
    "# BFMatcher with default params\n",
    "bf = cv2.BFMatcher()\n",
    "matches = bf.knnMatch(des2,des1, k=2)\n",
    "\n",
    "# Apply ratio test\n",
    "good = []\n",
    "for m,n in matches:\n",
    "    if m.distance < 0.75*n.distance:\n",
    "        good.append(m)\n",
    "        "
   ]
  },
  {
   "cell_type": "code",
   "execution_count": 34,
   "metadata": {},
   "outputs": [
    {
     "name": "stdout",
     "output_type": "stream",
     "text": [
      "0 2 0 229.492919921875\n"
     ]
    }
   ],
   "source": [
    "for match in good:\n",
    "    # Get the coordinates of the matching features in each image\n",
    "    print(match.queryIdx, match.trainIdx, match.imgIdx, match.distance)\n",
    "    x1, y1 = kp1[match.queryIdx].pt\n",
    "    x2, y2 = kp2[match.trainIdx].pt\n",
    "    break"
   ]
  },
  {
   "cell_type": "code",
   "execution_count": 36,
   "metadata": {},
   "outputs": [
    {
     "name": "stdout",
     "output_type": "stream",
     "text": [
      "229.492919921875 365.3299865722656\n"
     ]
    }
   ],
   "source": [
    "for m,n in matches:\n",
    "    print(m.distance, n.distance)\n",
    "    break"
   ]
  },
  {
   "cell_type": "code",
   "execution_count": 37,
   "metadata": {},
   "outputs": [],
   "source": [
    "\n",
    "# FLANN parameters\n",
    "FLANN_INDEX_KDTREE = 1\n",
    "index_params = dict(algorithm = FLANN_INDEX_KDTREE, trees = 5)\n",
    "search_params = dict(checks=50)   # or pass empty dictionary\n",
    "flann = cv2.FlannBasedMatcher(index_params,search_params)\n",
    "matches = flann.knnMatch(des1,des2,k=2)"
   ]
  },
  {
   "cell_type": "code",
   "execution_count": 38,
   "metadata": {},
   "outputs": [],
   "source": [
    "# Need to draw only good matches, so create a mask\n",
    "matchesMask = [[0,0] for i in range(len(matches))]\n",
    "\n",
    "good = []\n",
    "# ratio test as per Lowe's paper\n",
    "for i,(m,n) in enumerate(matches):\n",
    "    if m.distance < 0.7*n.distance:\n",
    "        matchesMask[i]=[1,0]\n",
    "        good.append(m)\n"
   ]
  },
  {
   "cell_type": "code",
   "execution_count": 39,
   "metadata": {},
   "outputs": [
    {
     "data": {
      "text/plain": [
       "(581, 158)"
      ]
     },
     "execution_count": 39,
     "metadata": {},
     "output_type": "execute_result"
    }
   ],
   "source": [
    "len(matchesMask), len(good)"
   ]
  },
  {
   "cell_type": "code",
   "execution_count": 41,
   "metadata": {},
   "outputs": [
    {
     "data": {
      "image/png": "[encoded data removed]",
      "text/plain": [
       "<Figure size 640x480 with 1 Axes>"
      ]
     },
     "metadata": {},
     "output_type": "display_data"
    },
    {
     "data": {
      "text/plain": [
       "(<matplotlib.image.AxesImage at 0x7f45bcd814c0>, None)"
      ]
     },
     "execution_count": 41,
     "metadata": {},
     "output_type": "execute_result"
    }
   ],
   "source": [
    "matches = bf.match(des1,des2)\n",
    "matches = sorted(matches, key = lambda x:x.distance)\n",
    "\n",
    "img3 = cv2.drawMatches(img1,kp1,img2,kp2,matches,None,flags=cv2.DrawMatchesFlags_NOT_DRAW_SINGLE_POINTS)\n",
    "plt.imshow(img3),plt.show()"
   ]
  },
  {
   "cell_type": "code",
   "execution_count": null,
   "metadata": {},
   "outputs": [],
   "source": [
    "noisy_images_indices = [10, 17, 36, 42, 46, 69, 73, 76, 78, 83, 88, 90, 100, 101]\n",
    "true_paths = [paths[i] for i in range(len(paths)) if i not in noisy_images_indices]"
   ]
  }
 ],
 "metadata": {
  "kernelspec": {
   "display_name": "Python 3 (ipykernel)",
   "language": "python",
   "name": "python3"
  },
  "language_info": {
   "codemirror_mode": {
    "name": "ipython",
    "version": 3
   },
   "file_extension": ".py",
   "mimetype": "text/x-python",
   "name": "python",
   "nbconvert_exporter": "python",
   "pygments_lexer": "ipython3",
   "version": "3.8.10"
  },
  "vscode": {
   "interpreter": {
    "hash": "f83859c48dd169773ef578b9d606e614fcceb4b3a71cef047cfe0d5fa0c675d5"
   }
  }
 },
 "nbformat": 4,
 "nbformat_minor": 2
}
